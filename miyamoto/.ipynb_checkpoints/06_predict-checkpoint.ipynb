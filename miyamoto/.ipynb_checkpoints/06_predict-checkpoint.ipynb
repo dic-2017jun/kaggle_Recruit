{
 "cells": [
  {
   "cell_type": "code",
   "execution_count": 12,
   "metadata": {
    "collapsed": true
   },
   "outputs": [],
   "source": [
    "# libraries\n",
    "import numpy as np\n",
    "import matplotlib.pyplot as plt\n",
    "import pandas as pd\n",
    "from sklearn import preprocessing\n",
    "from sklearn.model_selection import KFold\n",
    "from sklearn.model_selection import GridSearchCV\n",
    "from sklearn.ensemble import RandomForestClassifier\n",
    "from datetime import datetime as dt\n",
    "import pickle\n",
    "import xgboost as xgb\n",
    "import renom as rm\n",
    "from renom import Sequential\n",
    "from renom import Dense, Relu\n",
    "from renom import Adam"
   ]
  },
  {
   "cell_type": "markdown",
   "metadata": {},
   "source": [
    "### random forest"
   ]
  },
  {
   "cell_type": "code",
   "execution_count": 13,
   "metadata": {
    "collapsed": true
   },
   "outputs": [],
   "source": [
    "with open('rf.pickle', mode='rb') as f:\n",
    "    forest=pickle.load(f)"
   ]
  },
  {
   "cell_type": "markdown",
   "metadata": {},
   "source": [
    "### xgboost"
   ]
  },
  {
   "cell_type": "code",
   "execution_count": 14,
   "metadata": {
    "collapsed": true
   },
   "outputs": [],
   "source": [
    "with open('xgb.pickle', mode='rb') as f:\n",
    "    xgbst=pickle.load(f)"
   ]
  },
  {
   "cell_type": "markdown",
   "metadata": {},
   "source": [
    "### neural network"
   ]
  },
  {
   "cell_type": "code",
   "execution_count": 16,
   "metadata": {},
   "outputs": [],
   "source": [
    "nn = Sequential([\n",
    "    Dense(10),\n",
    "    Relu(),\n",
    "    Dense(8),\n",
    "    Relu(),\n",
    "    Dense(4),\n",
    "    Relu(),\n",
    "    Dense(1)\n",
    "])\n",
    "nn.load(\"nn.h5\")\n",
    "nn.set_models(inference=True)"
   ]
  },
  {
   "cell_type": "markdown",
   "metadata": {},
   "source": [
    "### prediction"
   ]
  },
  {
   "cell_type": "code",
   "execution_count": 44,
   "metadata": {
    "collapsed": true
   },
   "outputs": [],
   "source": [
    "df=pd.read_csv('../dataset/pre_submission.csv')"
   ]
  },
  {
   "cell_type": "code",
   "execution_count": 45,
   "metadata": {
    "collapsed": true
   },
   "outputs": [],
   "source": [
    "df1=df.dropna()\n",
    "df1.set_index('store_id_date',drop=True,inplace=True)"
   ]
  },
  {
   "cell_type": "code",
   "execution_count": 46,
   "metadata": {
    "collapsed": true
   },
   "outputs": [],
   "source": [
    "X = df1.drop('visitors', axis=1).as_matrix()\n",
    "y = df1['visitors']"
   ]
  },
  {
   "cell_type": "code",
   "execution_count": 47,
   "metadata": {
    "scrolled": true
   },
   "outputs": [
    {
     "data": {
      "text/plain": [
       "(32019, 33)"
      ]
     },
     "execution_count": 47,
     "metadata": {},
     "output_type": "execute_result"
    }
   ],
   "source": [
    "df1.shape"
   ]
  },
  {
   "cell_type": "code",
   "execution_count": 56,
   "metadata": {},
   "outputs": [],
   "source": [
    "#y= list(map(round,forest.predict(X)))\n",
    "y= list(map(round,xgbst.predict(X)))\n",
    "#y= nn(X)"
   ]
  },
  {
   "cell_type": "code",
   "execution_count": 57,
   "metadata": {
    "collapsed": true
   },
   "outputs": [],
   "source": [
    "#負の値が発生するので0に置き換える\n",
    "def rep0(y):\n",
    "    y1=[]\n",
    "    for i in y:\n",
    "        if i <1:\n",
    "            y1.append(0)\n",
    "        else:\n",
    "            y1.append(i)\n",
    "    return y1"
   ]
  },
  {
   "cell_type": "code",
   "execution_count": 58,
   "metadata": {
    "collapsed": true
   },
   "outputs": [],
   "source": [
    "submission=pd.DataFrame(columns=['id','visitors'])\n",
    "submission['id']=df1.index\n",
    "submission['visitors']=y"
   ]
  },
  {
   "cell_type": "code",
   "execution_count": 59,
   "metadata": {
    "collapsed": true
   },
   "outputs": [],
   "source": [
    "submission.set_index('id',drop=True,inplace=True)\n",
    "submission.to_csv('../dataset/submission.csv')"
   ]
  },
  {
   "cell_type": "code",
   "execution_count": 60,
   "metadata": {},
   "outputs": [
    {
     "name": "stdout",
     "output_type": "stream",
     "text": [
      "-13.0\n"
     ]
    }
   ],
   "source": [
    "print(min(submission['visitors']))"
   ]
  },
  {
   "cell_type": "code",
   "execution_count": 62,
   "metadata": {},
   "outputs": [
    {
     "data": {
      "text/html": [
       "<div>\n",
       "<style>\n",
       "    .dataframe thead tr:only-child th {\n",
       "        text-align: right;\n",
       "    }\n",
       "\n",
       "    .dataframe thead th {\n",
       "        text-align: left;\n",
       "    }\n",
       "\n",
       "    .dataframe tbody tr th {\n",
       "        vertical-align: top;\n",
       "    }\n",
       "</style>\n",
       "<table border=\"1\" class=\"dataframe\">\n",
       "  <thead>\n",
       "    <tr style=\"text-align: right;\">\n",
       "      <th></th>\n",
       "      <th>visitors</th>\n",
       "    </tr>\n",
       "    <tr>\n",
       "      <th>id</th>\n",
       "      <th></th>\n",
       "    </tr>\n",
       "  </thead>\n",
       "  <tbody>\n",
       "    <tr>\n",
       "      <th>air_00a91d42b08b08d9_2017-04-23</th>\n",
       "      <td>6.0</td>\n",
       "    </tr>\n",
       "    <tr>\n",
       "      <th>air_00a91d42b08b08d9_2017-04-24</th>\n",
       "      <td>16.0</td>\n",
       "    </tr>\n",
       "    <tr>\n",
       "      <th>air_00a91d42b08b08d9_2017-04-25</th>\n",
       "      <td>16.0</td>\n",
       "    </tr>\n",
       "    <tr>\n",
       "      <th>air_00a91d42b08b08d9_2017-04-26</th>\n",
       "      <td>18.0</td>\n",
       "    </tr>\n",
       "    <tr>\n",
       "      <th>air_00a91d42b08b08d9_2017-04-27</th>\n",
       "      <td>22.0</td>\n",
       "    </tr>\n",
       "    <tr>\n",
       "      <th>air_00a91d42b08b08d9_2017-04-28</th>\n",
       "      <td>21.0</td>\n",
       "    </tr>\n",
       "    <tr>\n",
       "      <th>air_00a91d42b08b08d9_2017-04-29</th>\n",
       "      <td>28.0</td>\n",
       "    </tr>\n",
       "    <tr>\n",
       "      <th>air_00a91d42b08b08d9_2017-04-30</th>\n",
       "      <td>12.0</td>\n",
       "    </tr>\n",
       "    <tr>\n",
       "      <th>air_00a91d42b08b08d9_2017-05-01</th>\n",
       "      <td>10.0</td>\n",
       "    </tr>\n",
       "    <tr>\n",
       "      <th>air_00a91d42b08b08d9_2017-05-02</th>\n",
       "      <td>13.0</td>\n",
       "    </tr>\n",
       "    <tr>\n",
       "      <th>air_00a91d42b08b08d9_2017-05-03</th>\n",
       "      <td>19.0</td>\n",
       "    </tr>\n",
       "    <tr>\n",
       "      <th>air_00a91d42b08b08d9_2017-05-04</th>\n",
       "      <td>16.0</td>\n",
       "    </tr>\n",
       "    <tr>\n",
       "      <th>air_00a91d42b08b08d9_2017-05-05</th>\n",
       "      <td>17.0</td>\n",
       "    </tr>\n",
       "    <tr>\n",
       "      <th>air_00a91d42b08b08d9_2017-05-06</th>\n",
       "      <td>8.0</td>\n",
       "    </tr>\n",
       "    <tr>\n",
       "      <th>air_00a91d42b08b08d9_2017-05-07</th>\n",
       "      <td>7.0</td>\n",
       "    </tr>\n",
       "    <tr>\n",
       "      <th>air_00a91d42b08b08d9_2017-05-08</th>\n",
       "      <td>11.0</td>\n",
       "    </tr>\n",
       "    <tr>\n",
       "      <th>air_00a91d42b08b08d9_2017-05-09</th>\n",
       "      <td>8.0</td>\n",
       "    </tr>\n",
       "    <tr>\n",
       "      <th>air_00a91d42b08b08d9_2017-05-10</th>\n",
       "      <td>6.0</td>\n",
       "    </tr>\n",
       "    <tr>\n",
       "      <th>air_00a91d42b08b08d9_2017-05-11</th>\n",
       "      <td>18.0</td>\n",
       "    </tr>\n",
       "    <tr>\n",
       "      <th>air_00a91d42b08b08d9_2017-05-12</th>\n",
       "      <td>15.0</td>\n",
       "    </tr>\n",
       "    <tr>\n",
       "      <th>air_00a91d42b08b08d9_2017-05-13</th>\n",
       "      <td>14.0</td>\n",
       "    </tr>\n",
       "    <tr>\n",
       "      <th>air_00a91d42b08b08d9_2017-05-14</th>\n",
       "      <td>7.0</td>\n",
       "    </tr>\n",
       "    <tr>\n",
       "      <th>air_00a91d42b08b08d9_2017-05-15</th>\n",
       "      <td>21.0</td>\n",
       "    </tr>\n",
       "    <tr>\n",
       "      <th>air_00a91d42b08b08d9_2017-05-16</th>\n",
       "      <td>2.0</td>\n",
       "    </tr>\n",
       "    <tr>\n",
       "      <th>air_00a91d42b08b08d9_2017-05-17</th>\n",
       "      <td>5.0</td>\n",
       "    </tr>\n",
       "    <tr>\n",
       "      <th>air_00a91d42b08b08d9_2017-05-18</th>\n",
       "      <td>14.0</td>\n",
       "    </tr>\n",
       "    <tr>\n",
       "      <th>air_00a91d42b08b08d9_2017-05-19</th>\n",
       "      <td>21.0</td>\n",
       "    </tr>\n",
       "    <tr>\n",
       "      <th>air_00a91d42b08b08d9_2017-05-20</th>\n",
       "      <td>4.0</td>\n",
       "    </tr>\n",
       "    <tr>\n",
       "      <th>air_00a91d42b08b08d9_2017-05-21</th>\n",
       "      <td>-0.0</td>\n",
       "    </tr>\n",
       "    <tr>\n",
       "      <th>air_00a91d42b08b08d9_2017-05-22</th>\n",
       "      <td>10.0</td>\n",
       "    </tr>\n",
       "    <tr>\n",
       "      <th>...</th>\n",
       "      <td>...</td>\n",
       "    </tr>\n",
       "    <tr>\n",
       "      <th>air_fff68b929994bfbd_2017-05-02</th>\n",
       "      <td>2.0</td>\n",
       "    </tr>\n",
       "    <tr>\n",
       "      <th>air_fff68b929994bfbd_2017-05-03</th>\n",
       "      <td>3.0</td>\n",
       "    </tr>\n",
       "    <tr>\n",
       "      <th>air_fff68b929994bfbd_2017-05-04</th>\n",
       "      <td>3.0</td>\n",
       "    </tr>\n",
       "    <tr>\n",
       "      <th>air_fff68b929994bfbd_2017-05-05</th>\n",
       "      <td>2.0</td>\n",
       "    </tr>\n",
       "    <tr>\n",
       "      <th>air_fff68b929994bfbd_2017-05-06</th>\n",
       "      <td>3.0</td>\n",
       "    </tr>\n",
       "    <tr>\n",
       "      <th>air_fff68b929994bfbd_2017-05-07</th>\n",
       "      <td>3.0</td>\n",
       "    </tr>\n",
       "    <tr>\n",
       "      <th>air_fff68b929994bfbd_2017-05-08</th>\n",
       "      <td>2.0</td>\n",
       "    </tr>\n",
       "    <tr>\n",
       "      <th>air_fff68b929994bfbd_2017-05-09</th>\n",
       "      <td>2.0</td>\n",
       "    </tr>\n",
       "    <tr>\n",
       "      <th>air_fff68b929994bfbd_2017-05-10</th>\n",
       "      <td>1.0</td>\n",
       "    </tr>\n",
       "    <tr>\n",
       "      <th>air_fff68b929994bfbd_2017-05-11</th>\n",
       "      <td>2.0</td>\n",
       "    </tr>\n",
       "    <tr>\n",
       "      <th>air_fff68b929994bfbd_2017-05-12</th>\n",
       "      <td>2.0</td>\n",
       "    </tr>\n",
       "    <tr>\n",
       "      <th>air_fff68b929994bfbd_2017-05-13</th>\n",
       "      <td>3.0</td>\n",
       "    </tr>\n",
       "    <tr>\n",
       "      <th>air_fff68b929994bfbd_2017-05-14</th>\n",
       "      <td>2.0</td>\n",
       "    </tr>\n",
       "    <tr>\n",
       "      <th>air_fff68b929994bfbd_2017-05-15</th>\n",
       "      <td>2.0</td>\n",
       "    </tr>\n",
       "    <tr>\n",
       "      <th>air_fff68b929994bfbd_2017-05-16</th>\n",
       "      <td>2.0</td>\n",
       "    </tr>\n",
       "    <tr>\n",
       "      <th>air_fff68b929994bfbd_2017-05-17</th>\n",
       "      <td>2.0</td>\n",
       "    </tr>\n",
       "    <tr>\n",
       "      <th>air_fff68b929994bfbd_2017-05-18</th>\n",
       "      <td>2.0</td>\n",
       "    </tr>\n",
       "    <tr>\n",
       "      <th>air_fff68b929994bfbd_2017-05-19</th>\n",
       "      <td>2.0</td>\n",
       "    </tr>\n",
       "    <tr>\n",
       "      <th>air_fff68b929994bfbd_2017-05-20</th>\n",
       "      <td>3.0</td>\n",
       "    </tr>\n",
       "    <tr>\n",
       "      <th>air_fff68b929994bfbd_2017-05-21</th>\n",
       "      <td>3.0</td>\n",
       "    </tr>\n",
       "    <tr>\n",
       "      <th>air_fff68b929994bfbd_2017-05-22</th>\n",
       "      <td>2.0</td>\n",
       "    </tr>\n",
       "    <tr>\n",
       "      <th>air_fff68b929994bfbd_2017-05-23</th>\n",
       "      <td>2.0</td>\n",
       "    </tr>\n",
       "    <tr>\n",
       "      <th>air_fff68b929994bfbd_2017-05-24</th>\n",
       "      <td>2.0</td>\n",
       "    </tr>\n",
       "    <tr>\n",
       "      <th>air_fff68b929994bfbd_2017-05-25</th>\n",
       "      <td>2.0</td>\n",
       "    </tr>\n",
       "    <tr>\n",
       "      <th>air_fff68b929994bfbd_2017-05-26</th>\n",
       "      <td>2.0</td>\n",
       "    </tr>\n",
       "    <tr>\n",
       "      <th>air_fff68b929994bfbd_2017-05-27</th>\n",
       "      <td>2.0</td>\n",
       "    </tr>\n",
       "    <tr>\n",
       "      <th>air_fff68b929994bfbd_2017-05-28</th>\n",
       "      <td>1.0</td>\n",
       "    </tr>\n",
       "    <tr>\n",
       "      <th>air_fff68b929994bfbd_2017-05-29</th>\n",
       "      <td>1.0</td>\n",
       "    </tr>\n",
       "    <tr>\n",
       "      <th>air_fff68b929994bfbd_2017-05-30</th>\n",
       "      <td>2.0</td>\n",
       "    </tr>\n",
       "    <tr>\n",
       "      <th>air_fff68b929994bfbd_2017-05-31</th>\n",
       "      <td>2.0</td>\n",
       "    </tr>\n",
       "  </tbody>\n",
       "</table>\n",
       "<p>32019 rows × 1 columns</p>\n",
       "</div>"
      ],
      "text/plain": [
       "                                 visitors\n",
       "id                                       \n",
       "air_00a91d42b08b08d9_2017-04-23       6.0\n",
       "air_00a91d42b08b08d9_2017-04-24      16.0\n",
       "air_00a91d42b08b08d9_2017-04-25      16.0\n",
       "air_00a91d42b08b08d9_2017-04-26      18.0\n",
       "air_00a91d42b08b08d9_2017-04-27      22.0\n",
       "air_00a91d42b08b08d9_2017-04-28      21.0\n",
       "air_00a91d42b08b08d9_2017-04-29      28.0\n",
       "air_00a91d42b08b08d9_2017-04-30      12.0\n",
       "air_00a91d42b08b08d9_2017-05-01      10.0\n",
       "air_00a91d42b08b08d9_2017-05-02      13.0\n",
       "air_00a91d42b08b08d9_2017-05-03      19.0\n",
       "air_00a91d42b08b08d9_2017-05-04      16.0\n",
       "air_00a91d42b08b08d9_2017-05-05      17.0\n",
       "air_00a91d42b08b08d9_2017-05-06       8.0\n",
       "air_00a91d42b08b08d9_2017-05-07       7.0\n",
       "air_00a91d42b08b08d9_2017-05-08      11.0\n",
       "air_00a91d42b08b08d9_2017-05-09       8.0\n",
       "air_00a91d42b08b08d9_2017-05-10       6.0\n",
       "air_00a91d42b08b08d9_2017-05-11      18.0\n",
       "air_00a91d42b08b08d9_2017-05-12      15.0\n",
       "air_00a91d42b08b08d9_2017-05-13      14.0\n",
       "air_00a91d42b08b08d9_2017-05-14       7.0\n",
       "air_00a91d42b08b08d9_2017-05-15      21.0\n",
       "air_00a91d42b08b08d9_2017-05-16       2.0\n",
       "air_00a91d42b08b08d9_2017-05-17       5.0\n",
       "air_00a91d42b08b08d9_2017-05-18      14.0\n",
       "air_00a91d42b08b08d9_2017-05-19      21.0\n",
       "air_00a91d42b08b08d9_2017-05-20       4.0\n",
       "air_00a91d42b08b08d9_2017-05-21      -0.0\n",
       "air_00a91d42b08b08d9_2017-05-22      10.0\n",
       "...                                   ...\n",
       "air_fff68b929994bfbd_2017-05-02       2.0\n",
       "air_fff68b929994bfbd_2017-05-03       3.0\n",
       "air_fff68b929994bfbd_2017-05-04       3.0\n",
       "air_fff68b929994bfbd_2017-05-05       2.0\n",
       "air_fff68b929994bfbd_2017-05-06       3.0\n",
       "air_fff68b929994bfbd_2017-05-07       3.0\n",
       "air_fff68b929994bfbd_2017-05-08       2.0\n",
       "air_fff68b929994bfbd_2017-05-09       2.0\n",
       "air_fff68b929994bfbd_2017-05-10       1.0\n",
       "air_fff68b929994bfbd_2017-05-11       2.0\n",
       "air_fff68b929994bfbd_2017-05-12       2.0\n",
       "air_fff68b929994bfbd_2017-05-13       3.0\n",
       "air_fff68b929994bfbd_2017-05-14       2.0\n",
       "air_fff68b929994bfbd_2017-05-15       2.0\n",
       "air_fff68b929994bfbd_2017-05-16       2.0\n",
       "air_fff68b929994bfbd_2017-05-17       2.0\n",
       "air_fff68b929994bfbd_2017-05-18       2.0\n",
       "air_fff68b929994bfbd_2017-05-19       2.0\n",
       "air_fff68b929994bfbd_2017-05-20       3.0\n",
       "air_fff68b929994bfbd_2017-05-21       3.0\n",
       "air_fff68b929994bfbd_2017-05-22       2.0\n",
       "air_fff68b929994bfbd_2017-05-23       2.0\n",
       "air_fff68b929994bfbd_2017-05-24       2.0\n",
       "air_fff68b929994bfbd_2017-05-25       2.0\n",
       "air_fff68b929994bfbd_2017-05-26       2.0\n",
       "air_fff68b929994bfbd_2017-05-27       2.0\n",
       "air_fff68b929994bfbd_2017-05-28       1.0\n",
       "air_fff68b929994bfbd_2017-05-29       1.0\n",
       "air_fff68b929994bfbd_2017-05-30       2.0\n",
       "air_fff68b929994bfbd_2017-05-31       2.0\n",
       "\n",
       "[32019 rows x 1 columns]"
      ]
     },
     "execution_count": 62,
     "metadata": {},
     "output_type": "execute_result"
    }
   ],
   "source": [
    "submission"
   ]
  },
  {
   "cell_type": "code",
   "execution_count": null,
   "metadata": {
    "collapsed": true
   },
   "outputs": [],
   "source": []
  }
 ],
 "metadata": {
  "kernelspec": {
   "display_name": "Python 3",
   "language": "python",
   "name": "python3"
  },
  "language_info": {
   "codemirror_mode": {
    "name": "ipython",
    "version": 3
   },
   "file_extension": ".py",
   "mimetype": "text/x-python",
   "name": "python",
   "nbconvert_exporter": "python",
   "pygments_lexer": "ipython3",
   "version": "3.5.2"
  }
 },
 "nbformat": 4,
 "nbformat_minor": 2
}
