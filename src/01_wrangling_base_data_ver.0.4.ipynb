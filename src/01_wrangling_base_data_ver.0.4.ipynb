{
 "cells": [
  {
   "cell_type": "code",
   "execution_count": 1,
   "metadata": {
    "collapsed": true
   },
   "outputs": [],
   "source": [
    "# libraries\n",
    "import numpy as np\n",
    "import matplotlib.pyplot as plt\n",
    "import pandas as pd\n",
    "from sklearn import preprocessing\n",
    "from datetime import datetime as dt"
   ]
  },
  {
   "cell_type": "code",
   "execution_count": 2,
   "metadata": {
    "collapsed": true
   },
   "outputs": [],
   "source": [
    "#idから日付を取り出す\n",
    "def get_calendar(df):\n",
    "    df['calendar_date']=[i[-10:] for i in df['id']]\n",
    "    return df"
   ]
  },
  {
   "cell_type": "code",
   "execution_count": 3,
   "metadata": {
    "collapsed": true
   },
   "outputs": [],
   "source": [
    "def day(df):\n",
    "    df['day']=[i[-2:] for i in df['calendar_date']]\n",
    "    df['day']=df['day'].astype('int')\n",
    "    return df"
   ]
  },
  {
   "cell_type": "code",
   "execution_count": 4,
   "metadata": {
    "collapsed": true
   },
   "outputs": [],
   "source": [
    "def index(df):\n",
    "    df=df.set_index('id')\n",
    "    return df"
   ]
  },
  {
   "cell_type": "code",
   "execution_count": 5,
   "metadata": {
    "collapsed": true
   },
   "outputs": [],
   "source": [
    "#holiday_flgを土日も含めたholiday_flgに変更する\n",
    "def ch_holiday(date):\n",
    "    buf=date.copy()\n",
    "    buf['sat_sun']=buf['day_of_week']\n",
    "    holiday_dict={'Sunday': 1,\n",
    "                             'Monday': 0,\n",
    "                             'Tuesday': 0,\n",
    "                             'Wednesday': 0,\n",
    "                             'Thursday': 0,\n",
    "                             'Friday': 0,\n",
    "                             'Saturday': 1}\n",
    "    buf=buf.replace({'sat_sun':holiday_dict})\n",
    "    buf['new_holiday_flg']=buf['sat_sun']+buf['holiday_flg']\n",
    "    buf.loc[buf[buf['new_holiday_flg']>0].index,\"new_holiday_flg\"]=1\n",
    "    buf=buf.drop(['holiday_flg','sat_sun'],axis=1)\n",
    "    buf=buf.rename(columns={'new_holiday_flg':'holiday_flg'})\n",
    "    return buf   "
   ]
  },
  {
   "cell_type": "code",
   "execution_count": 45,
   "metadata": {
    "collapsed": true
   },
   "outputs": [],
   "source": [
    "def golden(date):\n",
    "    buf=ch_holiday(date)\n",
    "    buf['new_holiday_flg']=buf['holiday_flg']\n",
    "    \n",
    "    for i in range(1,buf.shape[0]-2):\n",
    "        if (buf.loc[i-1,'new_holiday_flg']==1) & (buf.loc[i+2,'new_holiday_flg']==1) & (buf.loc[i,'new_holiday_flg']==0):\n",
    "            buf.loc[i,'new_holiday_flg']=1\n",
    "    \n",
    "    for i in range(1,buf.shape[0]-1):\n",
    "        if (buf.loc[i-1,'new_holiday_flg']==1) & (buf.loc[i+1,'new_holiday_flg']==1) & (buf.loc[i,'new_holiday_flg']==0):\n",
    "            buf.loc[i,'new_holiday_flg']=1\n",
    "\n",
    "    buf=buf.drop(['holiday_flg'],axis=1)\n",
    "    buf=buf.rename(columns={'new_holiday_flg':'holiday_flg'})\n",
    "    return buf   "
   ]
  },
  {
   "cell_type": "code",
   "execution_count": 46,
   "metadata": {
    "collapsed": true
   },
   "outputs": [],
   "source": [
    "#holiday_flgをmergeする\n",
    "def holiday(df,date):\n",
    "    buf_date=date.drop('day_of_week',axis=1)\n",
    "    df=pd.merge(df,buf_date,on='calendar_date',how='left')\n",
    "    return df"
   ]
  },
  {
   "cell_type": "code",
   "execution_count": 47,
   "metadata": {
    "collapsed": true
   },
   "outputs": [],
   "source": [
    "#列名を変更する\n",
    "def ch_col(df):\n",
    "    col=['id',\n",
    "            'visitors',\n",
    "            'year',\n",
    "            'month',\n",
    "            'day',   \n",
    "            'dow',\n",
    "            'holiday_flg',\n",
    "            'min_visitors',\n",
    "            'mean_visitors',\n",
    "            'median_visitors',\n",
    "            'max_visitors',\n",
    "            'count_observations',\n",
    "            'air_genre_name',\n",
    "            'air_area_name',\n",
    "            'latitude',\n",
    "            'longitude',\n",
    "            ]\n",
    "    df1=pd.DataFrame(columns=col)\n",
    "    for c in col:\n",
    "        df1[c]=df[c]\n",
    "    return df1"
   ]
  },
  {
   "cell_type": "markdown",
   "metadata": {},
   "source": [
    "### Main"
   ]
  },
  {
   "cell_type": "code",
   "execution_count": 48,
   "metadata": {
    "collapsed": true
   },
   "outputs": [],
   "source": [
    "tr=pd.read_csv('../dataset/tr_base.csv')\n",
    "te=pd.read_csv('../dataset/te_base.csv')\n",
    "date=pd.read_csv('../input/date_info.csv')"
   ]
  },
  {
   "cell_type": "code",
   "execution_count": 49,
   "metadata": {
    "collapsed": true
   },
   "outputs": [],
   "source": [
    "date1=golden(date)"
   ]
  },
  {
   "cell_type": "code",
   "execution_count": 52,
   "metadata": {
    "collapsed": true
   },
   "outputs": [],
   "source": [
    "tr1=get_calendar(tr)\n",
    "tr2=day(tr1)\n",
    "tr3=holiday(tr2,date1)\n",
    "tr4=ch_col(tr3)\n",
    "tr5=index(tr4)\n",
    "tr5.to_csv('../dataset/tr_tm004.csv')"
   ]
  },
  {
   "cell_type": "code",
   "execution_count": 53,
   "metadata": {
    "collapsed": true
   },
   "outputs": [],
   "source": [
    "te1=get_calendar(te)\n",
    "te2=day(te1)\n",
    "te3=holiday(te2,date1)\n",
    "te4=ch_col(te3)\n",
    "te5=index(te4)\n",
    "te5.to_csv('../dataset/te_tm004.csv')"
   ]
  },
  {
   "cell_type": "code",
   "execution_count": null,
   "metadata": {
    "collapsed": true
   },
   "outputs": [],
   "source": []
  },
  {
   "cell_type": "code",
   "execution_count": null,
   "metadata": {
    "collapsed": true
   },
   "outputs": [],
   "source": []
  }
 ],
 "metadata": {
  "kernelspec": {
   "display_name": "Python 3",
   "language": "python",
   "name": "python3"
  },
  "language_info": {
   "codemirror_mode": {
    "name": "ipython",
    "version": 3
   },
   "file_extension": ".py",
   "mimetype": "text/x-python",
   "name": "python",
   "nbconvert_exporter": "python",
   "pygments_lexer": "ipython3",
   "version": "3.5.2"
  }
 },
 "nbformat": 4,
 "nbformat_minor": 2
}
