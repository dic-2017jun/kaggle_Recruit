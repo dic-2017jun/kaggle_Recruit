{
 "cells": [
  {
   "cell_type": "code",
   "execution_count": 55,
   "metadata": {
    "collapsed": true
   },
   "outputs": [],
   "source": [
    "# libraries\n",
    "import numpy as np\n",
    "import matplotlib.pyplot as plt\n",
    "import pandas as pd\n",
    "from sklearn import preprocessing\n",
    "from datetime import datetime as dt"
   ]
  },
  {
   "cell_type": "code",
   "execution_count": 56,
   "metadata": {},
   "outputs": [],
   "source": [
    "tr=pd.read_csv('../dataset/tr_base.csv')\n",
    "te=pd.read_csv('../dataset/te_base.csv')\n",
    "date=pd.read_csv('../input/date_info.csv')"
   ]
  },
  {
   "cell_type": "code",
   "execution_count": 57,
   "metadata": {
    "collapsed": true
   },
   "outputs": [],
   "source": [
    "#idから日付を取り出す\n",
    "def get_calendar(df):\n",
    "    df['date']=[i[-10:] for i in df['id']]\n",
    "    return df"
   ]
  },
  {
   "cell_type": "code",
   "execution_count": 58,
   "metadata": {
    "collapsed": true
   },
   "outputs": [],
   "source": [
    "def day(df):\n",
    "    df['day']=[i[-2:] for i in df['date']]\n",
    "    df['day']=df['day'].astype('int')\n",
    "    return df"
   ]
  },
  {
   "cell_type": "code",
   "execution_count": 59,
   "metadata": {
    "collapsed": true
   },
   "outputs": [],
   "source": [
    "def index(df):\n",
    "    df=df.set_index('id')\n",
    "    return df"
   ]
  },
  {
   "cell_type": "code",
   "execution_count": 60,
   "metadata": {
    "collapsed": true
   },
   "outputs": [],
   "source": [
    "#列名を変更する\n",
    "def ch_col(df):\n",
    "    col=['id',\n",
    "            'visitors',\n",
    "            'year',\n",
    "            'month',\n",
    "            'day',   \n",
    "            'dow',\n",
    "            'min_visitors',\n",
    "            'mean_visitors',\n",
    "            'median_visitors',\n",
    "            'max_visitors',\n",
    "            'count_observations',\n",
    "            'air_genre_name',\n",
    "            'air_area_name',\n",
    "            'latitude',\n",
    "            'longitude',\n",
    "            ]\n",
    "    df1=pd.DataFrame(columns=col)\n",
    "    for c in col:\n",
    "        df1[c]=df[c]\n",
    "    return df1"
   ]
  },
  {
   "cell_type": "code",
   "execution_count": 61,
   "metadata": {
    "collapsed": true
   },
   "outputs": [],
   "source": [
    "tr1=get_calendar(tr)\n",
    "tr2=day(tr1)\n",
    "tr3=ch_col(tr2)\n",
    "tr4=index(tr3)\n",
    "tr4.to_csv('../dataset/tr_tm001.csv')"
   ]
  },
  {
   "cell_type": "code",
   "execution_count": 62,
   "metadata": {
    "collapsed": true
   },
   "outputs": [],
   "source": [
    "te1=get_calendar(te)\n",
    "te2=day(te1)\n",
    "te3=ch_col(te2)\n",
    "te4=index(te3)\n",
    "tr4.to_csv('../dataset/te_tm001.csv')"
   ]
  },
  {
   "cell_type": "code",
   "execution_count": null,
   "metadata": {
    "collapsed": true
   },
   "outputs": [],
   "source": []
  },
  {
   "cell_type": "code",
   "execution_count": null,
   "metadata": {
    "collapsed": true
   },
   "outputs": [],
   "source": []
  }
 ],
 "metadata": {
  "kernelspec": {
   "display_name": "Python 3",
   "language": "python",
   "name": "python3"
  },
  "language_info": {
   "codemirror_mode": {
    "name": "ipython",
    "version": 3
   },
   "file_extension": ".py",
   "mimetype": "text/x-python",
   "name": "python",
   "nbconvert_exporter": "python",
   "pygments_lexer": "ipython3",
   "version": "3.5.2"
  }
 },
 "nbformat": 4,
 "nbformat_minor": 2
}
