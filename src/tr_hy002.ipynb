{
 "cells": [
  {
   "cell_type": "code",
   "execution_count": 10,
   "metadata": {
    "scrolled": true
   },
   "outputs": [],
   "source": [
    "#インポート\n",
    "import numpy as np\n",
    "import pandas as pd\n",
    "import glob\n",
    "import os\n",
    "import datetime as dt\n",
    "\n",
    "#ファイル読み込み\n",
    "tr = pd.read_csv('./traintest/tr_hy001.csv')\n",
    "te = pd.read_csv('./traintest/te_hy001.csv')\n",
    "\n",
    "#欠損値を0で埋める\n",
    "tr['precipitation']=tr['precipitation'].fillna(0)\n",
    "te['precipitation']=te['precipitation'].fillna(0)\n",
    "\n",
    "#新たに特徴量weatherを定義し、\n",
    "#precipitation(降水量)が0の場合は、晴れとして0を、雨の場合は1を定義\n",
    "tr.loc[te['precipitation'].values > 0, 'weather'] = 1\n",
    "tr.loc[te['precipitation'].values == 0, 'weather'] = 0\n",
    "te.loc[te['precipitation'].values > 0, 'weather'] = 1\n",
    "te.loc[te['precipitation'].values == 0, 'weather'] = 0\n",
    "\n",
    "#ファイル出力\n",
    "tr.to_csv(\"tr_hy002.csv\")\n",
    "te.to_csv(\"te_hy002.csv\")\n"
   ]
  }
 ],
 "metadata": {
  "kernelspec": {
   "display_name": "Python 3",
   "language": "python",
   "name": "python3"
  },
  "language_info": {
   "codemirror_mode": {
    "name": "ipython",
    "version": 3
   },
   "file_extension": ".py",
   "mimetype": "text/x-python",
   "name": "python",
   "nbconvert_exporter": "python",
   "pygments_lexer": "ipython3",
   "version": "3.6.1"
  }
 },
 "nbformat": 4,
 "nbformat_minor": 2
}
