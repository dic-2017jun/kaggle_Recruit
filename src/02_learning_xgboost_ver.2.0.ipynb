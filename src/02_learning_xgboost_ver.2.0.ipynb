{
 "cells": [
  {
   "cell_type": "code",
   "execution_count": 10,
   "metadata": {},
   "outputs": [],
   "source": [
    "# libraries\n",
    "import numpy as np\n",
    "import matplotlib.pyplot as plt\n",
    "import pandas as pd\n",
    "from sklearn import preprocessing\n",
    "from sklearn.model_selection import KFold\n",
    "from sklearn.model_selection import GridSearchCV\n",
    "from sklearn.ensemble import RandomForestClassifier\n",
    "from sklearn.cross_validation import train_test_split\n",
    "from sklearn.metrics import mean_squared_error\n",
    "from sklearn.metrics import r2_score\n",
    "import math\n",
    "from datetime import datetime as dt\n",
    "import pickle\n",
    "import xgboost as xgb"
   ]
  },
  {
   "cell_type": "code",
   "execution_count": 11,
   "metadata": {
    "collapsed": true
   },
   "outputs": [],
   "source": [
    "df=pd.read_csv('../dataset/updated_train1.csv')"
   ]
  },
  {
   "cell_type": "code",
   "execution_count": 12,
   "metadata": {
    "collapsed": true
   },
   "outputs": [],
   "source": [
    "#データクレンジング\n",
    "def clean(df):\n",
    "    df1=df.dropna()\n",
    "    df1.set_index('store_id_date',drop=True,inplace=True)\n",
    "    return df1"
   ]
  },
  {
   "cell_type": "code",
   "execution_count": 13,
   "metadata": {
    "collapsed": true
   },
   "outputs": [],
   "source": [
    "#A function to calculate Root Mean Squared Logarithmic Error (RMSLE)\n",
    "def rmsle(y, y_pred):\n",
    "    assert len(y) == len(y_pred)\n",
    "    terms_to_sum = [(math.log(y_pred[i] + 1) - math.log(y[i] + 1)) ** 2.0 for i,pred in enumerate(y_pred)]\n",
    "    return (sum(terms_to_sum) * (1.0/len(y))) ** 0.5"
   ]
  },
  {
   "cell_type": "code",
   "execution_count": 14,
   "metadata": {
    "collapsed": true
   },
   "outputs": [],
   "source": [
    "df1=clean(df)"
   ]
  },
  {
   "cell_type": "code",
   "execution_count": 17,
   "metadata": {
    "collapsed": true
   },
   "outputs": [],
   "source": [
    "#trainデータとvalidationデータに分割\n",
    "X = df1.drop('visitors', axis=1).as_matrix()\n",
    "y = df1['visitors']\n",
    "X_train, X_test, y_train, y_test = train_test_split(X, y, test_size = 0.3, random_state = 666)"
   ]
  },
  {
   "cell_type": "code",
   "execution_count": 26,
   "metadata": {
    "collapsed": true
   },
   "outputs": [],
   "source": [
    "# Grid Search\n",
    "#parameterの設定\n",
    "params={'max_depth':[5,8,15,20], \n",
    "                'learning_rate':[0.001,0.01,0.05],\n",
    "                'n_estimators':[100,1000,10000],\n",
    "                'objective':['reg:linear'],\n",
    "                'gamma':[0],\n",
    "                'min_child_weight':[1],\n",
    "                'subsample':[1],\n",
    "                'min_child_weight':[1],\n",
    "                'colsample_bytree':[1],\n",
    "                'scale_pos_weight':[1],\n",
    "                'seed':[27]\n",
    "#                'eval_metric': ['rmse']\n",
    "}\n",
    "\n",
    "#モデルの設定\n",
    "xgb_model=xgb.XGBRegressor()"
   ]
  },
  {
   "cell_type": "code",
   "execution_count": 27,
   "metadata": {},
   "outputs": [
    {
     "data": {
      "text/plain": [
       "GridSearchCV(cv=None, error_score='raise',\n",
       "       estimator=XGBRegressor(base_score=0.5, booster='gbtree', colsample_bylevel=1,\n",
       "       colsample_bytree=1, gamma=0, learning_rate=0.1, max_delta_step=0,\n",
       "       max_depth=3, min_child_weight=1, missing=None, n_estimators=100,\n",
       "       n_jobs=1, nthread=None, objective='reg:linear', random_state=0,\n",
       "       reg_alpha=0, reg_lambda=1, scale_pos_weight=1, seed=None,\n",
       "       silent=True, subsample=1),\n",
       "       fit_params=None, iid=True, n_jobs=1,\n",
       "       param_grid={'n_estimators': [100, 1000, 10000], 'gamma': [0], 'learning_rate': [0.001, 0.01, 0.05], 'scale_pos_weight': [1], 'min_child_weight': [1], 'subsample': [1], 'colsample_bytree': [1], 'max_depth': [5, 8, 15, 20], 'seed': [27], 'objective': ['reg:linear']},\n",
       "       pre_dispatch='2*n_jobs', refit=True, return_train_score=True,\n",
       "       scoring=None, verbose=0)"
      ]
     },
     "execution_count": 27,
     "metadata": {},
     "output_type": "execute_result"
    }
   ],
   "source": [
    "#gridsearch\n",
    "gs = GridSearchCV(xgb_model,params)\n",
    "gs.fit(X_train,y_train)"
   ]
  },
  {
   "cell_type": "code",
   "execution_count": 28,
   "metadata": {},
   "outputs": [
    {
     "data": {
      "text/plain": [
       "{'colsample_bytree': 1,\n",
       " 'gamma': 0,\n",
       " 'learning_rate': 0.05,\n",
       " 'max_depth': 5,\n",
       " 'min_child_weight': 1,\n",
       " 'n_estimators': 100,\n",
       " 'objective': 'reg:linear',\n",
       " 'scale_pos_weight': 1,\n",
       " 'seed': 27,\n",
       " 'subsample': 1}"
      ]
     },
     "execution_count": 28,
     "metadata": {},
     "output_type": "execute_result"
    }
   ],
   "source": [
    "#best parameterの表示\n",
    "gs.best_params_"
   ]
  },
  {
   "cell_type": "code",
   "execution_count": 29,
   "metadata": {
    "collapsed": true
   },
   "outputs": [],
   "source": [
    "#予測\n",
    "y_test_pred = gs.predict(X_test)\n",
    "y_train_pred= gs.predict(X_train)"
   ]
  },
  {
   "cell_type": "code",
   "execution_count": 30,
   "metadata": {},
   "outputs": [
    {
     "name": "stdout",
     "output_type": "stream",
     "text": [
      "trainのRMSLE： 0.25351370246521254\n",
      "validationのRMSLE： 0.6047166126886131\n",
      "trainのR2： 0.964015672144\n",
      "validationのR2： 0.551227470219\n"
     ]
    }
   ],
   "source": [
    "#評価\n",
    "#RMSLEで評価\n",
    "print('trainのRMSLE：',rmsle(y_train,y_train_pred))\n",
    "print('validationのRMSLE：',rmsle(y_test,y_test_pred))\n",
    "\n",
    "#R2scoreで評価\n",
    "print('trainのR2：',r2_score(y_train,y_train_pred))\n",
    "print('validationのR2：',r2_score(y_test,y_test_pred))"
   ]
  },
  {
   "cell_type": "code",
   "execution_count": 31,
   "metadata": {},
   "outputs": [
    {
     "data": {
      "image/png": "[encoded data removed]",
      "text/plain": [
       "<matplotlib.figure.Figure at 0x114ae3940>"
      ]
     },
     "metadata": {},
     "output_type": "display_data"
    }
   ],
   "source": [
    "u_lim=150\n",
    "l_lim=0\n",
    "plt.figure(figsize=(8, 8))\n",
    "plt.plot([l_lim,u_lim], [l_lim,u_lim], c='k', alpha=0.6, label = 'diagonal line') # diagonal line\n",
    "plt.scatter(y_train,y_train_pred,label='train')\n",
    "plt.scatter(y_test,y_test_pred,label='test')\n",
    "plt.xlim(l_lim,u_lim)\n",
    "plt.ylim(l_lim,u_lim)\n",
    "plt.xlabel('acutual', fontsize=16)\n",
    "plt.ylabel('predicted', fontsize=16)\n",
    "plt.legend()\n",
    "plt.grid()\n",
    "plt.show()"
   ]
  },
  {
   "cell_type": "code",
   "execution_count": null,
   "metadata": {
    "collapsed": true
   },
   "outputs": [],
   "source": []
  }
 ],
 "metadata": {
  "kernelspec": {
   "display_name": "Python 3",
   "language": "python",
   "name": "python3"
  },
  "language_info": {
   "codemirror_mode": {
    "name": "ipython",
    "version": 3
   },
   "file_extension": ".py",
   "mimetype": "text/x-python",
   "name": "python",
   "nbconvert_exporter": "python",
   "pygments_lexer": "ipython3",
   "version": "3.5.2"
  }
 },
 "nbformat": 4,
 "nbformat_minor": 2
}
