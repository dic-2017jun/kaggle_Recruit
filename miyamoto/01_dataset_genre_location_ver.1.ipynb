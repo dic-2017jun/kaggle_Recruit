{
 "cells": [
  {
   "cell_type": "code",
   "execution_count": 1,
   "metadata": {
    "collapsed": true
   },
   "outputs": [],
   "source": [
    "#!/usr/bin/python3 -B\n",
    "import numpy as np\n",
    "import matplotlib.pyplot as plt\n",
    "import pandas as pd\n",
    "from sklearn import preprocessing\n",
    "\n",
    "def main():\n",
    "    st=pd.read_csv('../input/air_store_info.csv')\n",
    "\n",
    "    #genre名,area名をラベリング化\n",
    "    st1=st.copy()\n",
    "    lbl = preprocessing.LabelEncoder()\n",
    "    st1['air_genre_name'] = lbl.fit_transform(st1['air_genre_name'])\n",
    "    st1['air_area_name'] = lbl.fit_transform(st1['air_area_name'])\n",
    "\n",
    "    #air_store_idをインデックスにしてcsvファイルに出力\n",
    "    st1.set_index('air_store_id',drop=True,inplace=True)\n",
    "    st1.to_csv('../dataset/genre_loc.csv')\n",
    "\n",
    "if __name__ == '__main__':\n",
    "    main()"
   ]
  },
  {
   "cell_type": "code",
   "execution_count": null,
   "metadata": {
    "collapsed": true
   },
   "outputs": [],
   "source": []
  }
 ],
 "metadata": {
  "kernelspec": {
   "display_name": "Python 3",
   "language": "python",
   "name": "python3"
  },
  "language_info": {
   "codemirror_mode": {
    "name": "ipython",
    "version": 3
   },
   "file_extension": ".py",
   "mimetype": "text/x-python",
   "name": "python",
   "nbconvert_exporter": "python",
   "pygments_lexer": "ipython3",
   "version": "3.5.2"
  }
 },
 "nbformat": 4,
 "nbformat_minor": 2
}
