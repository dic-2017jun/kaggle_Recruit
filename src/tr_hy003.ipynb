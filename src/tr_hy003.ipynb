{
 "cells": [
  {
   "cell_type": "code",
   "execution_count": null,
   "metadata": {
    "collapsed": true
   },
   "outputs": [],
   "source": [
    "#インポート\n",
    "import numpy as np\n",
    "import pandas as pd\n",
    "import glob\n",
    "import os\n",
    "import datetime as dt\n",
    "\n",
    "#ファイル読み込み\n",
    "tr = pd.read_csv('./traintest/tr_hy002.csv')\n",
    "te = pd.read_csv('./traintest/te_hy002.csv')\n",
    "\n",
    "#ストアIDカラム作成\n",
    "tr_air_store_id=[]\n",
    "for i in tr['id']:\n",
    "    a,b,c=i.split('_')\n",
    "    tr_air_store_id.append(a+'_'+b)\n",
    "tr['air_store_id']=tr_air_store_id\n",
    "\n",
    "te_air_store_id=[]\n",
    "for j in te['id']:\n",
    "    a,b,c=j.split('_')\n",
    "    te_air_store_id.append(a+'_'+b)\n",
    "te['air_store_id']=te_air_store_id\n",
    "\n",
    "\n",
    "#店毎の天気の晴れ(weather=0),雨(weather=1)のvisitorsのmax,min,med,meanを算出\n",
    "tr_mean_src=tr.groupby(['air_store_id', 'weather'], as_index=False)['visitors'].mean()\n",
    "tr_median_src=tr.groupby(['air_store_id', 'weather'], as_index=False)['visitors'].median()\n",
    "tr_max_src=tr.groupby(['air_store_id', 'weather'], as_index=False)['visitors'].max()\n",
    "tr_min_src=tr.groupby(['air_store_id', 'weather'], as_index=False)['visitors'].min()\n",
    "\n",
    "te_mean_src=te.groupby(['air_store_id', 'weather'], as_index=False)['visitors'].mean()\n",
    "te_median_src=te.groupby(['air_store_id', 'weather'], as_index=False)['visitors'].median()\n",
    "te_max_src=te.groupby(['air_store_id', 'weather'], as_index=False)['visitors'].max()\n",
    "te_min_src=te.groupby(['air_store_id', 'weather'], as_index=False)['visitors'].min()\n",
    "\n",
    "\n",
    "#算出した店毎の天気の0,1のvisitorsのmax,min,med,meanをマージ\n",
    "for k in tr_mean_src.values:\n",
    "    tr.loc[(tr['air_store_id'].values == k[0])&(tr['weather'].values == k[1]), 'weather_visitor_mean'] = k[2]\n",
    "    te.loc[(te['air_store_id'].values == k[0])&(te['weather'].values == k[1]), 'weather_visitor_mean'] = k[2]\n",
    "for k in tr_median_src.values:\n",
    "    tr.loc[(tr['air_store_id'].values == k[0])&(tr['weather'].values == k[1]), 'weather_visitor_median'] = k[2]\n",
    "    te.loc[(te['air_store_id'].values == k[0])&(te['weather'].values == k[1]), 'weather_visitor_median'] = k[2]\n",
    "for k in tr_median_src.values:\n",
    "    tr.loc[(tr['air_store_id'].values == k[0])&(tr['weather'].values == k[1]), 'weather_visitor_max'] = k[2]\n",
    "    te.loc[(te['air_store_id'].values == k[0])&(te['weather'].values == k[1]), 'weather_visitor_max'] = k[2]\n",
    "for k in tr_mean_src.values:\n",
    "    tr.loc[(tr['air_store_id'].values == k[0])&(tr['weather'].values == k[1]), 'weather_visitor_min'] = k[2]\n",
    "    te.loc[(te['air_store_id'].values == k[0])&(te['weather'].values == k[1]), 'weather_visitor_min'] = k[2]\n",
    "\n",
    "#air_store_idの特徴量を削除\n",
    "drop_col=[\"air_store_id\"]\n",
    "tr=tr.drop(drop_col,axis=1)\n",
    "te=te.drop(drop_col,axis=1)\n",
    "\n",
    "#ファイル出力\n",
    "tr.to_csv(\"tr_hy003.csv\")\n",
    "te.to_csv(\"te_hy003.csv\")"
   ]
  },
  {
   "cell_type": "code",
   "execution_count": null,
   "metadata": {
    "collapsed": true
   },
   "outputs": [],
   "source": []
  },
  {
   "cell_type": "code",
   "execution_count": null,
   "metadata": {
    "collapsed": true
   },
   "outputs": [],
   "source": []
  },
  {
   "cell_type": "code",
   "execution_count": null,
   "metadata": {
    "collapsed": true
   },
   "outputs": [],
   "source": []
  },
  {
   "cell_type": "code",
   "execution_count": null,
   "metadata": {
    "collapsed": true
   },
   "outputs": [],
   "source": []
  }
 ],
 "metadata": {
  "kernelspec": {
   "display_name": "Python 3",
   "language": "python",
   "name": "python3"
  },
  "language_info": {
   "codemirror_mode": {
    "name": "ipython",
    "version": 3
   },
   "file_extension": ".py",
   "mimetype": "text/x-python",
   "name": "python",
   "nbconvert_exporter": "python",
   "pygments_lexer": "ipython3",
   "version": "3.6.1"
  }
 },
 "nbformat": 4,
 "nbformat_minor": 2
}
