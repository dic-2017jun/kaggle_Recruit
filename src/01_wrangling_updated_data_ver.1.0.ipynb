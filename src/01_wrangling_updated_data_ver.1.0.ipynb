{
 "cells": [
  {
   "cell_type": "code",
   "execution_count": 95,
   "metadata": {
    "collapsed": true
   },
   "outputs": [],
   "source": [
    "# libraries\n",
    "import numpy as np\n",
    "import matplotlib.pyplot as plt\n",
    "import pandas as pd\n",
    "from sklearn import preprocessing\n",
    "from datetime import datetime as dt"
   ]
  },
  {
   "cell_type": "code",
   "execution_count": 96,
   "metadata": {
    "collapsed": true
   },
   "outputs": [],
   "source": [
    "tr=pd.read_csv('../dataset/updated_train.csv')\n",
    "date=pd.read_csv('../input/date_info.csv')"
   ]
  },
  {
   "cell_type": "code",
   "execution_count": 97,
   "metadata": {
    "collapsed": true
   },
   "outputs": [],
   "source": [
    "#1,2列目を削除して、Nanを0で埋める\n",
    "def clean1(df):\n",
    "    buf=df.drop(['Unnamed: 0','Unnamed: 0.1'],axis=1)\n",
    "    df=buf.fillna(0)\n",
    "    return df"
   ]
  },
  {
   "cell_type": "code",
   "execution_count": 98,
   "metadata": {
    "collapsed": true
   },
   "outputs": [],
   "source": [
    "#holiday_flgをmergeする\n",
    "def holiday(tr,date):\n",
    "    buf_date=date.drop('day_of_week',axis=1)\n",
    "    tr=pd.merge(tr,buf_date,on='calendar_date',how='left')\n",
    "    return tr"
   ]
  },
  {
   "cell_type": "code",
   "execution_count": 99,
   "metadata": {
    "collapsed": true
   },
   "outputs": [],
   "source": [
    "#idをid_dateの形に変形\n",
    "def id_date(df):\n",
    "    buf=df.copy()\n",
    "    buf['store_id_date']=buf['air_store_id']+'_'+buf['calendar_date']\n",
    "    buf.drop(['air_store_id','calendar_date'],axis=1,inplace=True)\n",
    "    buf.set_index('store_id_date',inplace=True)\n",
    "    return buf"
   ]
  },
  {
   "cell_type": "code",
   "execution_count": 100,
   "metadata": {
    "collapsed": true
   },
   "outputs": [],
   "source": [
    "#不要な列を削除し、列名を修正する\n",
    "def deletecol(df):\n",
    "    delcol=['reserve_datetime_diff_x',\n",
    "            'reserve_visitors_x',\n",
    "            'reserve_datetime_diff_y',\n",
    "            'reserve_visitors_y',\n",
    "            'air_genre_name_y',\n",
    "            'air_area_name_y',\n",
    "            'latitude_y',\n",
    "            'longitude_y',\n",
    "            'latitude_str',\n",
    "            'longitude_str',\n",
    "            'station_id',\n",
    "            'station_latitude',\n",
    "            'station_longitude',\n",
    "            'station_vincenty',\n",
    "            'station_great_circle'\n",
    "           ]\n",
    "    buf=df.drop(delcol,axis=1)\n",
    "    df=buf.rename(columns={'air_genre_name_x':'air_genre_name',\n",
    "                                                'air_area_name_x':'air_area_name',\n",
    "                                                'latitude_x': 'latitude',\n",
    "                                                'longitude_x':'longitude'})\n",
    "    return df"
   ]
  },
  {
   "cell_type": "code",
   "execution_count": 101,
   "metadata": {
    "collapsed": true
   },
   "outputs": [],
   "source": [
    "#holiday_flgにゴールデンウィークのflgを設定する\n",
    "def golden(date):\n",
    "    golden_flg=['2016-04-30',\n",
    "                        '2016-05-01',\n",
    "                        '2016-05-02'\n",
    "                            ]\n",
    "    \n",
    "    for flg in golden_flg:\n",
    "        for i,d in enumerate(date['calendar_date']):\n",
    "            if d == flg:\n",
    "                date.iloc[[i],[2]]=1\n",
    "    return date"
   ]
  },
  {
   "cell_type": "code",
   "execution_count": 104,
   "metadata": {
    "collapsed": true
   },
   "outputs": [],
   "source": [
    "tr1=clean1(tr)\n",
    "date=golden(date)\n",
    "tr2=holiday(tr1,date)\n",
    "tr3=id_date(tr2)\n",
    "tr4=deletecol(tr3)"
   ]
  },
  {
   "cell_type": "code",
   "execution_count": 105,
   "metadata": {
    "collapsed": true
   },
   "outputs": [],
   "source": [
    "tr4.to_csv('../dataset/updated_train1.csv')"
   ]
  },
  {
   "cell_type": "code",
   "execution_count": null,
   "metadata": {
    "collapsed": true
   },
   "outputs": [],
   "source": []
  }
 ],
 "metadata": {
  "kernelspec": {
   "display_name": "Python 3",
   "language": "python",
   "name": "python3"
  },
  "language_info": {
   "codemirror_mode": {
    "name": "ipython",
    "version": 3
   },
   "file_extension": ".py",
   "mimetype": "text/x-python",
   "name": "python",
   "nbconvert_exporter": "python",
   "pygments_lexer": "ipython3",
   "version": "3.5.2"
  }
 },
 "nbformat": 4,
 "nbformat_minor": 2
}
